{
 "cells": [
  {
   "cell_type": "markdown",
   "metadata": {},
   "source": [
    "# ONLINEADS \n",
    "\n",
    "#### Описание задачи\n",
    "  > Международная бизнес-площадка запустила тестовую рекламу в интернете на жителей Москвы и Санкт-Петербурга. После проведения рекламной кампании были собраны данные о пользователях перешедших на сайт.\n",
    "\n",
    "#### Цель задачи\n",
    "  > Маркетологам запустистившим рекламные кампании нужно определить, какие пользователи в будущем будут регистрироваться на площадке (с высокой конверсией).\n",
    "\n",
    "----\n",
    "\n",
    "#### Описание признаков:\n",
    "\n",
    "\n",
    "| Variable  | Definition | Key |\n",
    "| --- |:---:| ---:|\n",
    "| ID | Идентификатор пользователя перешедшего на сайт |  |\n",
    "| Age | Возраст | 18‑24 года = 0; 25‑34 года = 1; 35‑44 года = 2; 45-54 года = 3; 55 лет и старше = 4 |\n",
    "| Gender | Пол | Неизвестный = 0; Мужской = 1; Женский = 2 |\n",
    "| Interest | Интересы | Бизнес = 0; Литература = 1 ; Кино = 2; Семья и дети = 3; Туризм = 4; Автомобили = 5; Кулинария = 6; Недвижимость = 7; Обустройство = 8; Мобильная связь и интернет = 9  |\n",
    "| VisitTime | Время визита на сайт | От 00:00 до 23:00. Каждое число из набора данных соответствует определенному часу |\n",
    "| City | Город | Москва = 0; Санкт-Петербург  = 1 |\n",
    "| Device | Тип устройства | ПК = 0; Смартфон = 1 |\n",
    "| OC | Операционная система | Mac OS = 0; Windows = 1; Android = 2; IOS = 3; |\n",
    "| VisitPage | Страница на которую попал пользователь при клике на рекламу | Главная страница = 0; Специально разработанная для рекламной кампании страница = 1 |\n",
    "| AdsTool | Источник перехода | Таргетированная реклама = 0; Контекстная реклама = 1; Прямые переходы = 2; SEO = 3; Социальные сети = 4; Остальные = 5|\n",
    "| VisitNumber | Является ли переход на сайт первым визитом посетителя? | Новые посетители = 0; Вернувшиеся посетители = 1|\n",
    "| ViewedPage | Количество просмотренных страниц перед регистрацией | 32-63 страниц = 0 ; 16-31 страниц = 1 ; 8-15 страниц = 2 ; 4-7 страниц = 3 ; 2-3 страниц = 4 ; 1 страница = 5 ; Остальные = 6 |\n",
    "| Registration | Пользователь зарегистрировался | Да = 1; Нет = 0 |"
   ]
  },
  {
   "cell_type": "code",
   "execution_count": 2,
   "metadata": {},
   "outputs": [
    {
     "name": "stdout",
     "output_type": "stream",
     "text": [
      "Populating the interactive namespace from numpy and matplotlib\n"
     ]
    }
   ],
   "source": [
    "import numpy as np\n",
    "import pandas as pd\n",
    "import pylab as pl\n",
    "from sklearn.tree import DecisionTreeClassifier, export_graphviz\n",
    "from sklearn.ensemble import RandomForestClassifier\n",
    "from sklearn.model_selection import GridSearchCV\n",
    "import matplotlib.pyplot as plt\n",
    "from matplotlib.colors import ListedColormap\n",
    "from sklearn.metrics import accuracy_score\n",
    "from sklearn.model_selection import train_test_split, cross_val_score\n",
    "from sklearn.tree import DecisionTreeClassifier\n",
    "from sklearn.tree import export_graphviz\n",
    "from sklearn.metrics import roc_auc_score, roc_curve, mean_squared_error, r2_score\n",
    "#from sklearn import datasets, metrics, tree\n",
    "from graphviz import Source\n",
    "from sklearn.ensemble import ExtraTreesClassifier\n",
    "from sklearn.feature_selection import SelectKBest\n",
    "from sklearn.feature_selection import chi2\n",
    "import subprocess\n",
    "import sklearn.metrics as metrics\n",
    "from os import system\n",
    "plt.style.use('ggplot')\n",
    "%matplotlib inline\n",
    "import seaborn as sns\n",
    "%pylab inline"
   ]
  },
  {
   "cell_type": "code",
   "execution_count": 88,
   "metadata": {},
   "outputs": [],
   "source": [
    "# Вывод таблицы результатов по модели\n",
    "def plot_score_table(x):\n",
    "    columns = ['Model', 'Accuracy', 'AUC', 'RMSE', 'R2']\n",
    "\n",
    "    fig, ax = plt.subplots(dpi=140)\n",
    "\n",
    "    # hide axes\n",
    "    fig.patch.set_visible(False)\n",
    "    ax.axis('off')\n",
    "    ax.axis('tight')\n",
    "\n",
    "    df = pd.DataFrame(x, columns=columns)\n",
    "\n",
    "    ax.table(cellText=df.values, colLabels=df.columns, loc='center', cellLoc='center')\n",
    "\n",
    "    fig.tight_layout()\n",
    "\n",
    "    plt.show()\n",
    "    plt.close()"
   ]
  },
  {
   "cell_type": "markdown",
   "metadata": {},
   "source": [
    "### 1. Загрузка данных"
   ]
  },
  {
   "cell_type": "code",
   "execution_count": 3,
   "metadata": {},
   "outputs": [
    {
     "data": {
      "text/html": [
       "<div>\n",
       "<style scoped>\n",
       "    .dataframe tbody tr th:only-of-type {\n",
       "        vertical-align: middle;\n",
       "    }\n",
       "\n",
       "    .dataframe tbody tr th {\n",
       "        vertical-align: top;\n",
       "    }\n",
       "\n",
       "    .dataframe thead th {\n",
       "        text-align: right;\n",
       "    }\n",
       "</style>\n",
       "<table border=\"1\" class=\"dataframe\">\n",
       "  <thead>\n",
       "    <tr style=\"text-align: right;\">\n",
       "      <th></th>\n",
       "      <th>Age</th>\n",
       "      <th>Gender</th>\n",
       "      <th>Interest</th>\n",
       "      <th>VisitTime</th>\n",
       "      <th>City</th>\n",
       "      <th>Device</th>\n",
       "      <th>OS</th>\n",
       "      <th>VisitPage</th>\n",
       "      <th>AdsTool</th>\n",
       "      <th>VisitNumber</th>\n",
       "      <th>ViewedPage</th>\n",
       "      <th>Registration</th>\n",
       "    </tr>\n",
       "    <tr>\n",
       "      <th>ClientID</th>\n",
       "      <th></th>\n",
       "      <th></th>\n",
       "      <th></th>\n",
       "      <th></th>\n",
       "      <th></th>\n",
       "      <th></th>\n",
       "      <th></th>\n",
       "      <th></th>\n",
       "      <th></th>\n",
       "      <th></th>\n",
       "      <th></th>\n",
       "      <th></th>\n",
       "    </tr>\n",
       "  </thead>\n",
       "  <tbody>\n",
       "    <tr>\n",
       "      <td>1</td>\n",
       "      <td>0</td>\n",
       "      <td>1</td>\n",
       "      <td>0</td>\n",
       "      <td>14</td>\n",
       "      <td>1</td>\n",
       "      <td>0</td>\n",
       "      <td>1</td>\n",
       "      <td>0</td>\n",
       "      <td>0</td>\n",
       "      <td>0</td>\n",
       "      <td>0</td>\n",
       "      <td>1</td>\n",
       "    </tr>\n",
       "    <tr>\n",
       "      <td>2</td>\n",
       "      <td>0</td>\n",
       "      <td>2</td>\n",
       "      <td>0</td>\n",
       "      <td>8</td>\n",
       "      <td>0</td>\n",
       "      <td>0</td>\n",
       "      <td>1</td>\n",
       "      <td>1</td>\n",
       "      <td>2</td>\n",
       "      <td>1</td>\n",
       "      <td>2</td>\n",
       "      <td>1</td>\n",
       "    </tr>\n",
       "    <tr>\n",
       "      <td>3</td>\n",
       "      <td>2</td>\n",
       "      <td>1</td>\n",
       "      <td>0</td>\n",
       "      <td>21</td>\n",
       "      <td>1</td>\n",
       "      <td>0</td>\n",
       "      <td>1</td>\n",
       "      <td>0</td>\n",
       "      <td>3</td>\n",
       "      <td>0</td>\n",
       "      <td>2</td>\n",
       "      <td>1</td>\n",
       "    </tr>\n",
       "    <tr>\n",
       "      <td>4</td>\n",
       "      <td>0</td>\n",
       "      <td>1</td>\n",
       "      <td>0</td>\n",
       "      <td>23</td>\n",
       "      <td>1</td>\n",
       "      <td>0</td>\n",
       "      <td>0</td>\n",
       "      <td>1</td>\n",
       "      <td>3</td>\n",
       "      <td>1</td>\n",
       "      <td>0</td>\n",
       "      <td>1</td>\n",
       "    </tr>\n",
       "    <tr>\n",
       "      <td>5</td>\n",
       "      <td>2</td>\n",
       "      <td>0</td>\n",
       "      <td>0</td>\n",
       "      <td>12</td>\n",
       "      <td>0</td>\n",
       "      <td>0</td>\n",
       "      <td>1</td>\n",
       "      <td>0</td>\n",
       "      <td>0</td>\n",
       "      <td>1</td>\n",
       "      <td>4</td>\n",
       "      <td>1</td>\n",
       "    </tr>\n",
       "  </tbody>\n",
       "</table>\n",
       "</div>"
      ],
      "text/plain": [
       "          Age  Gender  Interest  VisitTime  City  Device  OS  VisitPage  \\\n",
       "ClientID                                                                  \n",
       "1           0       1         0         14     1       0   1          0   \n",
       "2           0       2         0          8     0       0   1          1   \n",
       "3           2       1         0         21     1       0   1          0   \n",
       "4           0       1         0         23     1       0   0          1   \n",
       "5           2       0         0         12     0       0   1          0   \n",
       "\n",
       "          AdsTool  VisitNumber  ViewedPage  Registration  \n",
       "ClientID                                                  \n",
       "1               0            0           0             1  \n",
       "2               2            1           2             1  \n",
       "3               3            0           2             1  \n",
       "4               3            1           0             1  \n",
       "5               0            1           4             1  "
      ]
     },
     "execution_count": 3,
     "metadata": {},
     "output_type": "execute_result"
    }
   ],
   "source": [
    "data = pd.read_excel('dataset/Gover4.xlsx', sheet_name=0, index_col=0)\n",
    "data.head()"
   ]
  },
  {
   "cell_type": "markdown",
   "metadata": {},
   "source": [
    "### 2. Выведем, описательную статистику , проверим корреляции между признаками."
   ]
  },
  {
   "cell_type": "code",
   "execution_count": 4,
   "metadata": {},
   "outputs": [
    {
     "name": "stdout",
     "output_type": "stream",
     "text": [
      "(20000, 12)\n",
      "<class 'pandas.core.frame.DataFrame'>\n",
      "Int64Index: 20000 entries, 1 to 20000\n",
      "Data columns (total 12 columns):\n",
      "Age             20000 non-null int64\n",
      "Gender          20000 non-null int64\n",
      "Interest        20000 non-null int64\n",
      "VisitTime       20000 non-null int64\n",
      "City            20000 non-null int64\n",
      "Device          20000 non-null int64\n",
      "OS              20000 non-null int64\n",
      "VisitPage       20000 non-null int64\n",
      "AdsTool         20000 non-null int64\n",
      "VisitNumber     20000 non-null int64\n",
      "ViewedPage      20000 non-null int64\n",
      "Registration    20000 non-null int64\n",
      "dtypes: int64(12)\n",
      "memory usage: 2.0 MB\n",
      "None\n"
     ]
    }
   ],
   "source": [
    "print(data.shape)\n",
    "print(data.info())"
   ]
  },
  {
   "cell_type": "markdown",
   "metadata": {},
   "source": [
    "> В этом датасете 12 признаков, из которых 1 целевой, и 20 000 наблюдений"
   ]
  },
  {
   "cell_type": "code",
   "execution_count": 4,
   "metadata": {},
   "outputs": [
    {
     "data": {
      "text/html": [
       "<div>\n",
       "<style scoped>\n",
       "    .dataframe tbody tr th:only-of-type {\n",
       "        vertical-align: middle;\n",
       "    }\n",
       "\n",
       "    .dataframe tbody tr th {\n",
       "        vertical-align: top;\n",
       "    }\n",
       "\n",
       "    .dataframe thead th {\n",
       "        text-align: right;\n",
       "    }\n",
       "</style>\n",
       "<table border=\"1\" class=\"dataframe\">\n",
       "  <thead>\n",
       "    <tr style=\"text-align: right;\">\n",
       "      <th></th>\n",
       "      <th>Age</th>\n",
       "      <th>Gender</th>\n",
       "      <th>Interest</th>\n",
       "      <th>VisitTime</th>\n",
       "      <th>City</th>\n",
       "      <th>Device</th>\n",
       "      <th>OS</th>\n",
       "      <th>VisitPage</th>\n",
       "      <th>AdsTool</th>\n",
       "      <th>VisitNumber</th>\n",
       "      <th>ViewedPage</th>\n",
       "      <th>Registration</th>\n",
       "    </tr>\n",
       "  </thead>\n",
       "  <tbody>\n",
       "    <tr>\n",
       "      <td>count</td>\n",
       "      <td>20000.000000</td>\n",
       "      <td>20000.000000</td>\n",
       "      <td>20000.000000</td>\n",
       "      <td>20000.000000</td>\n",
       "      <td>20000.000000</td>\n",
       "      <td>20000.000000</td>\n",
       "      <td>20000.000000</td>\n",
       "      <td>20000.000000</td>\n",
       "      <td>20000.000000</td>\n",
       "      <td>20000.000000</td>\n",
       "      <td>20000.000000</td>\n",
       "      <td>20000.000000</td>\n",
       "    </tr>\n",
       "    <tr>\n",
       "      <td>mean</td>\n",
       "      <td>1.444550</td>\n",
       "      <td>1.308550</td>\n",
       "      <td>2.686650</td>\n",
       "      <td>12.566800</td>\n",
       "      <td>0.490250</td>\n",
       "      <td>0.490800</td>\n",
       "      <td>1.350200</td>\n",
       "      <td>0.529300</td>\n",
       "      <td>1.978850</td>\n",
       "      <td>0.547950</td>\n",
       "      <td>2.542000</td>\n",
       "      <td>0.500000</td>\n",
       "    </tr>\n",
       "    <tr>\n",
       "      <td>std</td>\n",
       "      <td>1.408483</td>\n",
       "      <td>0.695752</td>\n",
       "      <td>2.997684</td>\n",
       "      <td>6.110156</td>\n",
       "      <td>0.499917</td>\n",
       "      <td>0.499928</td>\n",
       "      <td>0.962084</td>\n",
       "      <td>0.499153</td>\n",
       "      <td>1.767048</td>\n",
       "      <td>0.497708</td>\n",
       "      <td>1.914764</td>\n",
       "      <td>0.500013</td>\n",
       "    </tr>\n",
       "    <tr>\n",
       "      <td>min</td>\n",
       "      <td>0.000000</td>\n",
       "      <td>0.000000</td>\n",
       "      <td>0.000000</td>\n",
       "      <td>0.000000</td>\n",
       "      <td>0.000000</td>\n",
       "      <td>0.000000</td>\n",
       "      <td>0.000000</td>\n",
       "      <td>0.000000</td>\n",
       "      <td>0.000000</td>\n",
       "      <td>0.000000</td>\n",
       "      <td>0.000000</td>\n",
       "      <td>0.000000</td>\n",
       "    </tr>\n",
       "    <tr>\n",
       "      <td>25%</td>\n",
       "      <td>0.000000</td>\n",
       "      <td>1.000000</td>\n",
       "      <td>0.000000</td>\n",
       "      <td>8.000000</td>\n",
       "      <td>0.000000</td>\n",
       "      <td>0.000000</td>\n",
       "      <td>1.000000</td>\n",
       "      <td>0.000000</td>\n",
       "      <td>0.000000</td>\n",
       "      <td>0.000000</td>\n",
       "      <td>1.000000</td>\n",
       "      <td>0.000000</td>\n",
       "    </tr>\n",
       "    <tr>\n",
       "      <td>50%</td>\n",
       "      <td>1.000000</td>\n",
       "      <td>1.000000</td>\n",
       "      <td>2.000000</td>\n",
       "      <td>13.000000</td>\n",
       "      <td>0.000000</td>\n",
       "      <td>0.000000</td>\n",
       "      <td>1.000000</td>\n",
       "      <td>1.000000</td>\n",
       "      <td>2.000000</td>\n",
       "      <td>1.000000</td>\n",
       "      <td>2.000000</td>\n",
       "      <td>0.500000</td>\n",
       "    </tr>\n",
       "    <tr>\n",
       "      <td>75%</td>\n",
       "      <td>3.000000</td>\n",
       "      <td>2.000000</td>\n",
       "      <td>5.000000</td>\n",
       "      <td>18.000000</td>\n",
       "      <td>1.000000</td>\n",
       "      <td>1.000000</td>\n",
       "      <td>2.000000</td>\n",
       "      <td>1.000000</td>\n",
       "      <td>3.000000</td>\n",
       "      <td>1.000000</td>\n",
       "      <td>4.000000</td>\n",
       "      <td>1.000000</td>\n",
       "    </tr>\n",
       "    <tr>\n",
       "      <td>max</td>\n",
       "      <td>4.000000</td>\n",
       "      <td>2.000000</td>\n",
       "      <td>9.000000</td>\n",
       "      <td>23.000000</td>\n",
       "      <td>1.000000</td>\n",
       "      <td>1.000000</td>\n",
       "      <td>3.000000</td>\n",
       "      <td>1.000000</td>\n",
       "      <td>5.000000</td>\n",
       "      <td>1.000000</td>\n",
       "      <td>6.000000</td>\n",
       "      <td>1.000000</td>\n",
       "    </tr>\n",
       "  </tbody>\n",
       "</table>\n",
       "</div>"
      ],
      "text/plain": [
       "                Age        Gender      Interest     VisitTime          City  \\\n",
       "count  20000.000000  20000.000000  20000.000000  20000.000000  20000.000000   \n",
       "mean       1.444550      1.308550      2.686650     12.566800      0.490250   \n",
       "std        1.408483      0.695752      2.997684      6.110156      0.499917   \n",
       "min        0.000000      0.000000      0.000000      0.000000      0.000000   \n",
       "25%        0.000000      1.000000      0.000000      8.000000      0.000000   \n",
       "50%        1.000000      1.000000      2.000000     13.000000      0.000000   \n",
       "75%        3.000000      2.000000      5.000000     18.000000      1.000000   \n",
       "max        4.000000      2.000000      9.000000     23.000000      1.000000   \n",
       "\n",
       "             Device            OS     VisitPage       AdsTool   VisitNumber  \\\n",
       "count  20000.000000  20000.000000  20000.000000  20000.000000  20000.000000   \n",
       "mean       0.490800      1.350200      0.529300      1.978850      0.547950   \n",
       "std        0.499928      0.962084      0.499153      1.767048      0.497708   \n",
       "min        0.000000      0.000000      0.000000      0.000000      0.000000   \n",
       "25%        0.000000      1.000000      0.000000      0.000000      0.000000   \n",
       "50%        0.000000      1.000000      1.000000      2.000000      1.000000   \n",
       "75%        1.000000      2.000000      1.000000      3.000000      1.000000   \n",
       "max        1.000000      3.000000      1.000000      5.000000      1.000000   \n",
       "\n",
       "         ViewedPage  Registration  \n",
       "count  20000.000000  20000.000000  \n",
       "mean       2.542000      0.500000  \n",
       "std        1.914764      0.500013  \n",
       "min        0.000000      0.000000  \n",
       "25%        1.000000      0.000000  \n",
       "50%        2.000000      0.500000  \n",
       "75%        4.000000      1.000000  \n",
       "max        6.000000      1.000000  "
      ]
     },
     "execution_count": 4,
     "metadata": {},
     "output_type": "execute_result"
    }
   ],
   "source": [
    "data.describe()"
   ]
  },
  {
   "cell_type": "markdown",
   "metadata": {},
   "source": [
    "> Заметим, что в датасете нет пропущенных значений"
   ]
  },
  {
   "cell_type": "code",
   "execution_count": 5,
   "metadata": {},
   "outputs": [
    {
     "data": {
      "text/plain": [
       "Text(0.5, 1, 'Missing values heatmap')"
      ]
     },
     "execution_count": 5,
     "metadata": {},
     "output_type": "execute_result"
    },
    {
     "data": {
      "image/png": "[encoded data removed]",
      "text/plain": [
       "<Figure size 432x288 with 1 Axes>"
      ]
     },
     "metadata": {
      "needs_background": "light"
     },
     "output_type": "display_data"
    }
   ],
   "source": [
    "data.isnull().sum()\n",
    "sns.heatmap(data.isnull(), cbar = False).set_title(\"Missing values heatmap\")"
   ]
  },
  {
   "cell_type": "code",
   "execution_count": 6,
   "metadata": {},
   "outputs": [
    {
     "data": {
      "image/png": "[encoded data removed]",
      "text/plain": [
       "<Figure size 1080x1080 with 2 Axes>"
      ]
     },
     "metadata": {
      "needs_background": "light"
     },
     "output_type": "display_data"
    }
   ],
   "source": [
    "plt.figure(figsize=(15, 15))\n",
    "correlation_matrix = data.corr()  \n",
    "sns.heatmap(correlation_matrix, annot=True, cmap=plt.cm.Reds)\n",
    "plt.show()"
   ]
  },
  {
   "cell_type": "markdown",
   "metadata": {},
   "source": [
    "#### Удалим целевую переменную"
   ]
  },
  {
   "cell_type": "code",
   "execution_count": 26,
   "metadata": {},
   "outputs": [],
   "source": [
    "X = data\n",
    "y = data['Registration'].astype('int')\n",
    "X.drop(['Registration'], axis=1, inplace=True)"
   ]
  },
  {
   "cell_type": "markdown",
   "metadata": {},
   "source": [
    "### 3. Разбиение на обучение и контроль"
   ]
  },
  {
   "cell_type": "code",
   "execution_count": 27,
   "metadata": {},
   "outputs": [],
   "source": [
    "X_train, X_test, y_train, y_test = train_test_split(X, y, test_size=0.3)"
   ]
  },
  {
   "cell_type": "markdown",
   "metadata": {},
   "source": [
    "## Дерево(береза-олсу) за мат извинити"
   ]
  },
  {
   "cell_type": "code",
   "execution_count": 28,
   "metadata": {},
   "outputs": [
    {
     "name": "stdout",
     "output_type": "stream",
     "text": [
      "Результат на обучающей выборке:  0.877\n",
      "Результат на тестовой выборке:  0.865\n"
     ]
    }
   ],
   "source": [
    "tree=DecisionTreeClassifier(max_depth=5, random_state=17)\n",
    "tree.fit(X_train, y_train)\n",
    "print('Результат на обучающей выборке: ', tree.score(X_train, y_train))\n",
    "print('Результат на тестовой выборке: ', tree.score(X_test, y_test))"
   ]
  },
  {
   "cell_type": "markdown",
   "metadata": {},
   "source": [
    "> **Подбор лучших параметров**"
   ]
  },
  {
   "cell_type": "code",
   "execution_count": 29,
   "metadata": {},
   "outputs": [
    {
     "name": "stdout",
     "output_type": "stream",
     "text": [
      "Fitting 5 folds for each of 98 candidates, totalling 490 fits\n"
     ]
    },
    {
     "name": "stderr",
     "output_type": "stream",
     "text": [
      "[Parallel(n_jobs=-1)]: Using backend LokyBackend with 8 concurrent workers.\n",
      "[Parallel(n_jobs=-1)]: Done  52 tasks      | elapsed:    0.7s\n",
      "[Parallel(n_jobs=-1)]: Done 352 tasks      | elapsed:    3.8s\n",
      "[Parallel(n_jobs=-1)]: Done 490 out of 490 | elapsed:    5.2s finished\n"
     ]
    },
    {
     "data": {
      "text/plain": [
       "GridSearchCV(cv=5, error_score='raise-deprecating',\n",
       "             estimator=DecisionTreeClassifier(class_weight=None,\n",
       "                                              criterion='gini', max_depth=5,\n",
       "                                              max_features=None,\n",
       "                                              max_leaf_nodes=None,\n",
       "                                              min_impurity_decrease=0.0,\n",
       "                                              min_impurity_split=None,\n",
       "                                              min_samples_leaf=1,\n",
       "                                              min_samples_split=2,\n",
       "                                              min_weight_fraction_leaf=0.0,\n",
       "                                              presort=False, random_state=17,\n",
       "                                              splitter='best'),\n",
       "             iid='warn', n_jobs=-1,\n",
       "             param_grid={'criterion': ('entropy', 'gini'),\n",
       "                         'max_depth': [1, 2, 3, 4, 5, 6, 7],\n",
       "                         'min_samples_leaf': [1, 2, 3, 4, 5, 6, 7]},\n",
       "             pre_dispatch='2*n_jobs', refit=True, return_train_score=False,\n",
       "             scoring=None, verbose=True)"
      ]
     },
     "execution_count": 29,
     "metadata": {},
     "output_type": "execute_result"
    }
   ],
   "source": [
    "tree_params = {'max_depth': list(range(1,8)), \n",
    "               'min_samples_leaf': list(range(1,8)),\n",
    "               'criterion': ('entropy','gini')}\n",
    "\n",
    "tree_grid = GridSearchCV(tree, tree_params,\n",
    "                         cv=5, n_jobs=-1,\n",
    "                        verbose=True)\n",
    "tree_grid.fit(X_train, y_train)"
   ]
  },
  {
   "cell_type": "code",
   "execution_count": 30,
   "metadata": {},
   "outputs": [
    {
     "data": {
      "text/plain": [
       "{'criterion': 'gini', 'max_depth': 7, 'min_samples_leaf': 7}"
      ]
     },
     "execution_count": 30,
     "metadata": {},
     "output_type": "execute_result"
    }
   ],
   "source": [
    "tree_grid.best_params_"
   ]
  },
  {
   "cell_type": "code",
   "execution_count": 31,
   "metadata": {},
   "outputs": [
    {
     "data": {
      "text/plain": [
       "0.886"
      ]
     },
     "execution_count": 31,
     "metadata": {},
     "output_type": "execute_result"
    }
   ],
   "source": [
    "tree_grid.best_score_"
   ]
  },
  {
   "cell_type": "markdown",
   "metadata": {},
   "source": [
    "**Попробуем увеличить значения параметров и убедимся, что лучшие параметры найдены верно**"
   ]
  },
  {
   "cell_type": "code",
   "execution_count": 32,
   "metadata": {},
   "outputs": [
    {
     "name": "stdout",
     "output_type": "stream",
     "text": [
      "Fitting 5 folds for each of 128 candidates, totalling 640 fits\n"
     ]
    },
    {
     "name": "stderr",
     "output_type": "stream",
     "text": [
      "[Parallel(n_jobs=-1)]: Using backend LokyBackend with 8 concurrent workers.\n",
      "[Parallel(n_jobs=-1)]: Done  52 tasks      | elapsed:    0.9s\n",
      "[Parallel(n_jobs=-1)]: Done 352 tasks      | elapsed:    5.3s\n",
      "[Parallel(n_jobs=-1)]: Done 640 out of 640 | elapsed:    9.0s finished\n"
     ]
    },
    {
     "data": {
      "text/plain": [
       "GridSearchCV(cv=5, error_score='raise-deprecating',\n",
       "             estimator=DecisionTreeClassifier(class_weight=None,\n",
       "                                              criterion='gini', max_depth=5,\n",
       "                                              max_features=None,\n",
       "                                              max_leaf_nodes=None,\n",
       "                                              min_impurity_decrease=0.0,\n",
       "                                              min_impurity_split=None,\n",
       "                                              min_samples_leaf=1,\n",
       "                                              min_samples_split=2,\n",
       "                                              min_weight_fraction_leaf=0.0,\n",
       "                                              presort=False, random_state=17,\n",
       "                                              splitter='best'),\n",
       "             iid='warn', n_jobs=-1,\n",
       "             param_grid={'criterion': ('entropy', 'gini'),\n",
       "                         'max_depth': [7, 8, 9, 10, 11, 12, 13, 14],\n",
       "                         'min_samples_leaf': [7, 8, 9, 10, 11, 12, 13, 14]},\n",
       "             pre_dispatch='2*n_jobs', refit=True, return_train_score=False,\n",
       "             scoring=None, verbose=True)"
      ]
     },
     "execution_count": 32,
     "metadata": {},
     "output_type": "execute_result"
    }
   ],
   "source": [
    "tree_params2 = {'max_depth': list(range(7,15)), \n",
    "               'min_samples_leaf': list(range(7,15)),\n",
    "               'criterion': ('entropy','gini')}\n",
    "\n",
    "tree_grid2 = GridSearchCV(tree, tree_params2,\n",
    "                         cv=5, n_jobs=-1,\n",
    "                        verbose=True)\n",
    "tree_grid2.fit(X_train, y_train)"
   ]
  },
  {
   "cell_type": "code",
   "execution_count": 33,
   "metadata": {},
   "outputs": [
    {
     "data": {
      "text/plain": [
       "{'criterion': 'entropy', 'max_depth': 10, 'min_samples_leaf': 14}"
      ]
     },
     "execution_count": 33,
     "metadata": {},
     "output_type": "execute_result"
    }
   ],
   "source": [
    "tree_grid2.best_params_"
   ]
  },
  {
   "cell_type": "code",
   "execution_count": 34,
   "metadata": {},
   "outputs": [
    {
     "data": {
      "text/plain": [
       "0.8897857142857143"
      ]
     },
     "execution_count": 34,
     "metadata": {},
     "output_type": "execute_result"
    }
   ],
   "source": [
    "tree_grid2.best_score_"
   ]
  },
  {
   "cell_type": "markdown",
   "metadata": {},
   "source": [
    "**Построим дерево по найденным параметрам**"
   ]
  },
  {
   "cell_type": "code",
   "execution_count": 35,
   "metadata": {},
   "outputs": [
    {
     "data": {
      "text/plain": [
       "0"
      ]
     },
     "execution_count": 35,
     "metadata": {},
     "output_type": "execute_result"
    }
   ],
   "source": [
    "tree2=DecisionTreeClassifier(max_depth=7,criterion='gini', min_samples_leaf=7)\n",
    "tree2.fit(X_train, y_train)\n",
    "dotfile = open(r'OnlineAds_tree.dot', 'w')\n",
    "\n",
    "graph = Source(export_graphviz(tree2, out_file=dotfile, \n",
    "               rounded = True, proportion = False, \n",
    "                precision = 2, filled = True))\n",
    "dotfile.close()\n",
    "system(\"dot -Tpng OnlineAds_tree.dot -o OnlineAds_tree.png\")"
   ]
  },
  {
   "cell_type": "markdown",
   "metadata": {},
   "source": [
    "#### Проанализируем полученное дерево\n",
    "\n",
    "TODO"
   ]
  },
  {
   "cell_type": "code",
   "execution_count": 36,
   "metadata": {},
   "outputs": [
    {
     "data": {
      "text/plain": [
       "0.8811666666666667"
      ]
     },
     "execution_count": 36,
     "metadata": {},
     "output_type": "execute_result"
    }
   ],
   "source": [
    "# оцениваем точность\n",
    "tree2.score(X_test, y_test)"
   ]
  },
  {
   "cell_type": "code",
   "execution_count": 37,
   "metadata": {},
   "outputs": [
    {
     "data": {
      "text/plain": [
       "0.8933333333333333"
      ]
     },
     "execution_count": 37,
     "metadata": {},
     "output_type": "execute_result"
    }
   ],
   "source": [
    "# оценка при кросс-валидации\n",
    "val_score = max(cross_val_score(tree2, X_test, y_test, cv=5))\n",
    "val_score"
   ]
  },
  {
   "cell_type": "code",
   "execution_count": 38,
   "metadata": {},
   "outputs": [
    {
     "data": {
      "text/plain": [
       "array([0.01365854, 0.01772152, 0.01369863, ..., 0.16666667, 0.01365854,\n",
       "       0.14141414])"
      ]
     },
     "execution_count": 38,
     "metadata": {},
     "output_type": "execute_result"
    }
   ],
   "source": [
    "#вычислений предсказаний по каждому из объектов в x, данный метод\n",
    "#возвращает ID и значение, к какому классу, по его мнению, относится тот или иной объект\n",
    "y_predict = tree2.predict_proba(X_test)[:, 1]\n",
    "y_predict"
   ]
  },
  {
   "cell_type": "code",
   "execution_count": 39,
   "metadata": {},
   "outputs": [
    {
     "data": {
      "text/plain": [
       "0.9465662383399793"
      ]
     },
     "execution_count": 39,
     "metadata": {},
     "output_type": "execute_result"
    }
   ],
   "source": [
    "# вычисление площади под ROC-кривой\n",
    "#Чем больше значение AUC, тем «лучше» модель классификации. \n",
    "#Данный показатель часто используется для сравнительного анализа нескольких моделей классификации.\n",
    "aue = roc_auc_score(y_test, y_predict)\n",
    "aue"
   ]
  },
  {
   "cell_type": "code",
   "execution_count": 40,
   "metadata": {},
   "outputs": [
    {
     "data": {
      "text/plain": [
       "0.29450562647619116"
      ]
     },
     "execution_count": 40,
     "metadata": {},
     "output_type": "execute_result"
    }
   ],
   "source": [
    "# вычисление среднеквадратичной ошибки\n",
    "rmse = np.sqrt(mean_squared_error(y_test, y_predict))\n",
    "rmse"
   ]
  },
  {
   "cell_type": "code",
   "execution_count": 41,
   "metadata": {},
   "outputs": [
    {
     "data": {
      "text/plain": [
       "0.6530651271223573"
      ]
     },
     "execution_count": 41,
     "metadata": {},
     "output_type": "execute_result"
    }
   ],
   "source": [
    "# вычисление коэффициента детерминизации\n",
    "r2 = r2_score(y_test, y_predict)\n",
    "r2"
   ]
  },
  {
   "cell_type": "markdown",
   "metadata": {},
   "source": [
    "### Построим ROC-кривую"
   ]
  },
  {
   "cell_type": "code",
   "execution_count": 42,
   "metadata": {},
   "outputs": [
    {
     "data": {
      "image/png": "[encoded data removed]",
      "text/plain": [
       "<Figure size 432x288 with 1 Axes>"
      ]
     },
     "metadata": {
      "needs_background": "light"
     },
     "output_type": "display_data"
    }
   ],
   "source": [
    "fpr, tpr, threshold = metrics.roc_curve(y_test, y_predict)\n",
    "roc_auc = metrics.auc(fpr, tpr)\n",
    "\n",
    "plt.title('ROC')\n",
    "plt.plot(fpr, tpr, 'b', label = 'AUC = %0.2f' % roc_auc)\n",
    "plt.legend(loc = 'lower right')\n",
    "plt.plot([0, 1], [0, 1],'r--')\n",
    "plt.xlim([0, 1])\n",
    "plt.ylim([0, 1])\n",
    "plt.ylabel('True Positive Rate')\n",
    "plt.xlabel('False Positive Rate')\n",
    "plt.show()"
   ]
  },
  {
   "cell_type": "code",
   "execution_count": 44,
   "metadata": {},
   "outputs": [
    {
     "name": "stderr",
     "output_type": "stream",
     "text": [
      "C:\\Users\\Admin\\Anaconda3\\lib\\site-packages\\sklearn\\ensemble\\forest.py:245: FutureWarning: The default value of n_estimators will change from 10 in version 0.20 to 100 in 0.22.\n",
      "  \"10 in version 0.20 to 100 in 0.22.\", FutureWarning)\n"
     ]
    },
    {
     "data": {
      "image/png": "[encoded data removed]",
      "text/plain": [
       "<Figure size 432x288 with 1 Axes>"
      ]
     },
     "metadata": {
      "needs_background": "light"
     },
     "output_type": "display_data"
    }
   ],
   "source": [
    "# используйте встроенный класс feature_importances древовидных классификаторов\n",
    "# построить график важности объектов для лучшей визуализации\n",
    "model = ExtraTreesClassifier()\n",
    "model.fit(X_train, y_train)\n",
    "feat_importances = pd.Series(model.feature_importances_, index=X_train.columns)\n",
    "feat_importances.nlargest(11).plot(kind='barh')\n",
    "plt.show()\n",
    "plt.close()"
   ]
  },
  {
   "cell_type": "code",
   "execution_count": 45,
   "metadata": {},
   "outputs": [
    {
     "data": {
      "image/png": "[encoded data removed]",
      "text/plain": [
       "<Figure size 432x288 with 1 Axes>"
      ]
     },
     "metadata": {
      "needs_background": "light"
     },
     "output_type": "display_data"
    }
   ],
   "source": [
    "best_features = SelectKBest(score_func=chi2, k=10)\n",
    "\n",
    "fit = best_features.fit(X_train, y_train)\n",
    "    # берем результаты\n",
    "dfscores = pd.DataFrame(fit.scores_)\n",
    "dfcolumns = pd.DataFrame(X_train.columns)\n",
    "    # объединяем 2 фрейма и выводим их в консоль\n",
    "featureScores = pd.concat([dfcolumns, dfscores], axis=1)\n",
    "featureScores.columns = ['Specs', 'Score']\n",
    "featureScores = featureScores.nlargest(len(data.columns), 'Score')\n",
    "    \n",
    "    # выводим график со значением важности по каждому признаку\n",
    "y_axis = []\n",
    "y_stickers = []\n",
    "\n",
    "for j in featureScores.values:\n",
    "    y_axis.append(j[1])\n",
    "    y_stickers.append(j[0])\n",
    "\n",
    "ind = np.arange(len(y_axis))\n",
    "plt.barh(ind, y_axis, align='center')\n",
    "plt.yticks(ind, y_stickers)\n",
    "    \n",
    "plt.show()\n",
    "plt.close()"
   ]
  },
  {
   "cell_type": "markdown",
   "metadata": {},
   "source": [
    "## Леса"
   ]
  },
  {
   "cell_type": "markdown",
   "metadata": {},
   "source": [
    "#### Случайный лес без настройки параметров"
   ]
  },
  {
   "cell_type": "code",
   "execution_count": 46,
   "metadata": {},
   "outputs": [
    {
     "data": {
      "text/plain": [
       "RandomForestClassifier(bootstrap=True, class_weight=None, criterion='gini',\n",
       "                       max_depth=7, max_features='auto', max_leaf_nodes=None,\n",
       "                       min_impurity_decrease=0.0, min_impurity_split=None,\n",
       "                       min_samples_leaf=7, min_samples_split=2,\n",
       "                       min_weight_fraction_leaf=0.0, n_estimators=600,\n",
       "                       n_jobs=None, oob_score=False, random_state=17, verbose=0,\n",
       "                       warm_start=False)"
      ]
     },
     "execution_count": 46,
     "metadata": {},
     "output_type": "execute_result"
    }
   ],
   "source": [
    "first_forest = RandomForestClassifier(random_state=17,n_estimators=600, max_depth=7, min_samples_leaf=7)\n",
    "first_forest.fit(X_train, y_train)"
   ]
  },
  {
   "cell_type": "code",
   "execution_count": 103,
   "metadata": {},
   "outputs": [],
   "source": [
    "x_table=[]\n",
    "# оцениваем точность\n",
    "current_score = first_forest.score(X_test, y_test)\n",
    "\n",
    "# оценка при кросс-валидации\n",
    "val_score = max(cross_val_score(first_forest, X_test, y_test, cv=5))\n",
    "#генерируются предсказания, т.к у x еще нет значений, данный метод\n",
    "#возвращает ID и значение, к какому классу, по его мнению, относится то или иное значение\n",
    "y_predict2 = model.predict_proba(X_test)\n",
    "\n",
    "# записываем только значения\n",
    "y_predict2 = y_predict2[:, 1]\n",
    "\n",
    "# вычисление площади под ROC-кривой\n",
    "auc = roc_auc_score(y_test, y_predict2)\n",
    "\n",
    "# вычисление среднеквадратичной ошибки\n",
    "rmse = np.sqrt(mean_squared_error(y_test, y_predict2))\n",
    "\n",
    "# вычисление коэффициента детерминизации\n",
    "r2 = r2_score(y_test, y_predict2)\n",
    "\n",
    "x_table.append(['First Forest', round(current_score, 5), round(auc, 5), round(rmse, 5), round(r2, 5)])\n",
    "# plot_score_table(x_table) mark-daun"
   ]
  },
  {
   "cell_type": "code",
   "execution_count": 104,
   "metadata": {
    "scrolled": true
   },
   "outputs": [
    {
     "data": {
      "image/png": "[encoded data removed]",
      "text/plain": [
       "<Figure size 432x288 with 1 Axes>"
      ]
     },
     "metadata": {
      "needs_background": "light"
     },
     "output_type": "display_data"
    }
   ],
   "source": [
    "fpr, tpr, threshold = metrics.roc_curve(y_test, y_predict2)\n",
    "roc_auc = metrics.auc(fpr, tpr)\n",
    "\n",
    "plt.title('ROC')\n",
    "plt.plot(fpr, tpr, 'b', label = 'AUC = %0.2f' % roc_auc)\n",
    "plt.legend(loc = 'lower right')\n",
    "plt.plot([0, 1], [0, 1],'r--')\n",
    "plt.xlim([0, 1])\n",
    "plt.ylim([0, 1])\n",
    "plt.ylabel('True Positive Rate')\n",
    "plt.xlabel('False Positive Rate')\n",
    "plt.show()"
   ]
  },
  {
   "cell_type": "markdown",
   "metadata": {},
   "source": [
    "TODO mark daun))\n",
    "поясни за параметры"
   ]
  },
  {
   "cell_type": "code",
   "execution_count": 105,
   "metadata": {},
   "outputs": [
    {
     "data": {
      "text/plain": [
       "GridSearchCV(cv=5, error_score='raise-deprecating',\n",
       "             estimator=RandomForestClassifier(bootstrap=True, class_weight=None,\n",
       "                                              criterion='gini', max_depth=None,\n",
       "                                              max_features='auto',\n",
       "                                              max_leaf_nodes=None,\n",
       "                                              min_impurity_decrease=0.0,\n",
       "                                              min_impurity_split=None,\n",
       "                                              min_samples_leaf=1,\n",
       "                                              min_samples_split=2,\n",
       "                                              min_weight_fraction_leaf=0.0,\n",
       "                                              n_estimators=600, n_jobs=None,\n",
       "                                              oob_score=False, random_state=17,\n",
       "                                              verbose=0, warm_start=False),\n",
       "             iid='warn', n_jobs=-1,\n",
       "             param_grid={'max_depth': (11,),\n",
       "                         'min_samples_leaf': [5, 6, 7, 8, 9, 10, 11, 12, 13,\n",
       "                                              14]},\n",
       "             pre_dispatch='2*n_jobs', refit=True, return_train_score=False,\n",
       "             scoring=None, verbose=0)"
      ]
     },
     "execution_count": 105,
     "metadata": {},
     "output_type": "execute_result"
    }
   ],
   "source": [
    "forest_params = {'max_depth': (11,), 'min_samples_leaf': list(range(5,15))}\n",
    "forest = RandomForestClassifier(random_state=17, n_estimators=600)\n",
    "locally_best_forest = GridSearchCV(forest, forest_params, cv=5, n_jobs=-1)\n",
    "locally_best_forest.fit(X_train,y_train)"
   ]
  },
  {
   "cell_type": "code",
   "execution_count": 106,
   "metadata": {},
   "outputs": [
    {
     "data": {
      "text/plain": [
       "{'max_depth': 11, 'min_samples_leaf': 5}"
      ]
     },
     "execution_count": 106,
     "metadata": {},
     "output_type": "execute_result"
    }
   ],
   "source": [
    "locally_best_forest.best_params_"
   ]
  },
  {
   "cell_type": "code",
   "execution_count": 107,
   "metadata": {},
   "outputs": [
    {
     "data": {
      "text/plain": [
       "0.8988571428571429"
      ]
     },
     "execution_count": 107,
     "metadata": {},
     "output_type": "execute_result"
    }
   ],
   "source": [
    "locally_best_forest.best_score_"
   ]
  },
  {
   "cell_type": "code",
   "execution_count": 113,
   "metadata": {},
   "outputs": [],
   "source": [
    "# оцениваем точность\n",
    "current_score = locally_best_forest.score(X_test, y_test)\n",
    "\n",
    "# оценка при кросс-валидации\n",
    "val_score = max(cross_val_score(locally_best_forest, X_test, y_test, cv=5))\n",
    "#генерируются предсказания, т.к у x еще нет значений, данный метод\n",
    "#возвращает ID и значение, к какому классу, по его мнению, относится то или иное значение\n",
    "y_predict2 = model.predict_proba(X_test)\n",
    "\n",
    "# записываем только значения\n",
    "y_predict2 = y_predict2[:, 1]\n",
    "\n",
    "# вычисление площади под ROC-кривой\n",
    "auc = roc_auc_score(y_test, y_predict2)\n",
    "\n",
    "# вычисление среднеквадратичной ошибки\n",
    "rmse = np.sqrt(mean_squared_error(y_test, y_predict2))\n",
    "\n",
    "# вычисление коэффициента детерминизации\n",
    "r2 = r2_score(y_test, y_predict2)\n",
    "\n",
    "x_table.append(['Locally best Forest', round(current_score, 5), round(auc, 5), round(rmse, 5), round(r2, 5)])"
   ]
  },
  {
   "cell_type": "code",
   "execution_count": 109,
   "metadata": {},
   "outputs": [
    {
     "data": {
      "text/plain": [
       "RandomForestClassifier(bootstrap=True, class_weight=None, criterion='gini',\n",
       "                       max_depth=11, max_features='auto', max_leaf_nodes=None,\n",
       "                       min_impurity_decrease=0.0, min_impurity_split=None,\n",
       "                       min_samples_leaf=5, min_samples_split=2,\n",
       "                       min_weight_fraction_leaf=0.0, n_estimators=1000,\n",
       "                       n_jobs=None, oob_score=False, random_state=17, verbose=0,\n",
       "                       warm_start=False)"
      ]
     },
     "execution_count": 109,
     "metadata": {},
     "output_type": "execute_result"
    }
   ],
   "source": [
    "best_forest = RandomForestClassifier(random_state=17,n_estimators=1000, max_depth=11, min_samples_leaf=5)\n",
    "best_forest.fit(X_train, y_train)"
   ]
  },
  {
   "cell_type": "code",
   "execution_count": 110,
   "metadata": {},
   "outputs": [],
   "source": [
    "# оцениваем точность\n",
    "current_score = best_forest.score(X_test, y_test)\n",
    "\n",
    "# оценка при кросс-валидации\n",
    "val_score = max(cross_val_score(best_forest, X_test, y_test, cv=5))\n",
    "#генерируются предсказания, т.к у x еще нет значений, данный метод\n",
    "#возвращает ID и значение, к какому классу, по его мнению, относится то или иное значение\n",
    "y_predict2 = best_forest.predict_proba(X_test)\n",
    "\n",
    "# записываем только значения\n",
    "y_predict2 = y_predict2[:, 1]\n",
    "\n",
    "# вычисление площади под ROC-кривой\n",
    "auc = roc_auc_score(y_test, y_predict2)\n",
    "\n",
    "# вычисление среднеквадратичной ошибки\n",
    "rmse = np.sqrt(mean_squared_error(y_test, y_predict2))\n",
    "\n",
    "# вычисление коэффициента детерминизации\n",
    "r2 = r2_score(y_test, y_predict2)\n",
    "\n",
    "x_table.append(['Best Forest', round(current_score, 5), round(auc, 5), round(rmse, 5), round(r2, 5)])"
   ]
  },
  {
   "cell_type": "code",
   "execution_count": 111,
   "metadata": {},
   "outputs": [
    {
     "data": {
      "image/png": "[encoded data removed]",
      "text/plain": [
       "<Figure size 840x560 with 1 Axes>"
      ]
     },
     "metadata": {
      "needs_background": "light"
     },
     "output_type": "display_data"
    }
   ],
   "source": [
    "plot_score_table(x_table)"
   ]
  },
  {
   "cell_type": "markdown",
   "metadata": {},
   "source": [
    "TODO E rock krivaya\n",
    "out of bag"
   ]
  },
  {
   "cell_type": "code",
   "execution_count": null,
   "metadata": {},
   "outputs": [],
   "source": []
  }
 ],
 "metadata": {
  "kernelspec": {
   "display_name": "Python 3",
   "language": "python",
   "name": "python3"
  },
  "language_info": {
   "codemirror_mode": {
    "name": "ipython",
    "version": 3
   },
   "file_extension": ".py",
   "mimetype": "text/x-python",
   "name": "python",
   "nbconvert_exporter": "python",
   "pygments_lexer": "ipython3",
   "version": "3.7.4"
  }
 },
 "nbformat": 4,
 "nbformat_minor": 2
}
